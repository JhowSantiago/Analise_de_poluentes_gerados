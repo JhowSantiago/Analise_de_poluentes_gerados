{
 "cells": [
  {
   "cell_type": "markdown",
   "metadata": {},
   "source": [
    "# Importando as bibliotecas"
   ]
  },
  {
   "cell_type": "code",
   "execution_count": 100,
   "metadata": {},
   "outputs": [],
   "source": [
    "import pandas as pd\n",
    "import plotly.express as px"
   ]
  },
  {
   "cell_type": "markdown",
   "metadata": {},
   "source": [
    "# Lendo e atribuindo a base de dados para um DataFrame"
   ]
  },
  {
   "cell_type": "code",
   "execution_count": 101,
   "metadata": {},
   "outputs": [],
   "source": [
    "path = './BaseDados/relatorio.csv'"
   ]
  },
  {
   "cell_type": "code",
   "execution_count": 102,
   "metadata": {},
   "outputs": [],
   "source": [
    "dfRelatorio = pd.read_csv(path, sep=';')\n"
   ]
  },
  {
   "cell_type": "markdown",
   "metadata": {},
   "source": [
    "# Pré-visualização dos tipos de dados do DataFrame"
   ]
  },
  {
   "cell_type": "code",
   "execution_count": 103,
   "metadata": {},
   "outputs": [
    {
     "name": "stdout",
     "output_type": "stream",
     "text": [
      "<class 'pandas.core.frame.DataFrame'>\n",
      "RangeIndex: 174108 entries, 0 to 174107\n",
      "Data columns (total 13 columns):\n",
      " #   Column                  Non-Null Count   Dtype \n",
      "---  ------                  --------------   ----- \n",
      " 0   CNPJ                    174108 non-null  object\n",
      " 1   Razão Social            174108 non-null  object\n",
      " 2   Estado                  174108 non-null  object\n",
      " 3   Município               174108 non-null  object\n",
      " 4   Código da Categoria     174108 non-null  int64 \n",
      " 5   Categoria de Atividade  174108 non-null  object\n",
      " 6   Código do Detalhe       174108 non-null  int64 \n",
      " 7   Detalhe                 174108 non-null  object\n",
      " 8   Ano                     174108 non-null  int64 \n",
      " 9   Poluente emitido        174108 non-null  object\n",
      " 10  Quantidade              174108 non-null  object\n",
      " 11  Metodologia utilizada   174000 non-null  object\n",
      " 12  Situação Cadastral      174108 non-null  object\n",
      "dtypes: int64(3), object(10)\n",
      "memory usage: 17.3+ MB\n"
     ]
    }
   ],
   "source": [
    "dfRelatorio.info()"
   ]
  },
  {
   "cell_type": "markdown",
   "metadata": {},
   "source": [
    "# Tratamento de Valores Nulos e da coluna Quantidade"
   ]
  },
  {
   "cell_type": "code",
   "execution_count": 104,
   "metadata": {},
   "outputs": [],
   "source": [
    "dfRelatorio['Quantidade'] = pd.to_numeric(dfRelatorio['Quantidade'].str.replace(',', ''), downcast='float')\n",
    "dfRelatorio = dfRelatorio.dropna()\n"
   ]
  },
  {
   "cell_type": "markdown",
   "metadata": {},
   "source": [
    "# Definição dos municípios que vão ser analisados"
   ]
  },
  {
   "cell_type": "code",
   "execution_count": 109,
   "metadata": {},
   "outputs": [],
   "source": [
    "\n",
    "cidades = ['SANTOS', 'SAO VICENTE', 'GUARUJA','PRAIA GRANDE', 'CUBATAO']\n",
    "df_bs = dfRelatorio[dfRelatorio.Município.isin(cidades)]"
   ]
  },
  {
   "cell_type": "code",
   "execution_count": 112,
   "metadata": {},
   "outputs": [
    {
     "data": {
      "text/plain": [
       "Ano\n",
       "2013    1215389.99\n",
       "2014     745447.67\n",
       "2015      32802.20\n",
       "2016     473551.27\n",
       "2017      21917.25\n",
       "2018      20658.00\n",
       "2019      21256.44\n",
       "2020      21803.44\n",
       "2021      20754.95\n",
       "2022      22734.63\n",
       "2023       3957.75\n",
       "Name: Quantidade, dtype: float64"
      ]
     },
     "execution_count": 112,
     "metadata": {},
     "output_type": "execute_result"
    }
   ],
   "source": [
    "df_bs.groupby(['Ano']).sum()['Quantidade']"
   ]
  },
  {
   "cell_type": "code",
   "execution_count": 113,
   "metadata": {},
   "outputs": [
    {
     "data": {
      "text/plain": [
       "Categoria de Atividade\n",
       "Serviços de Utilidade                                             1464532.48\n",
       "Transporte, Terminais, Depósitos e Comércio                        744691.17\n",
       "Indústria Química                                                  261783.77\n",
       "Extração e Tratamento de Minerais                                   80293.36\n",
       "Indústria Metalúrgica                                               33591.72\n",
       "Indústria de Produtos Minerais Não Metálicos                        14850.96\n",
       "Indústrias Diversas                                                   266.38\n",
       "Indústria de Produtos Alimentares e Bebidas                           151.95\n",
       "Indústria Mecânica                                                    102.84\n",
       "Atividades não relacionadas no Anexo VIII da Lei nº 6.938/1981          8.96\n",
       "Indústria de Material de Transporte                                     0.00\n",
       "Name: Quantidade, dtype: float64"
      ]
     },
     "execution_count": 113,
     "metadata": {},
     "output_type": "execute_result"
    }
   ],
   "source": [
    "df_bs.groupby(['Categoria de Atividade']).sum()['Quantidade'].sort_values(ascending=False)\n"
   ]
  },
  {
   "cell_type": "markdown",
   "metadata": {},
   "source": [
    "# Criando o DataFrame que vai ser utilizado para plotar o gráfico"
   ]
  },
  {
   "cell_type": "code",
   "execution_count": 105,
   "metadata": {},
   "outputs": [
    {
     "data": {
      "text/html": [
       "<div>\n",
       "<style scoped>\n",
       "    .dataframe tbody tr th:only-of-type {\n",
       "        vertical-align: middle;\n",
       "    }\n",
       "\n",
       "    .dataframe tbody tr th {\n",
       "        vertical-align: top;\n",
       "    }\n",
       "\n",
       "    .dataframe thead th {\n",
       "        text-align: right;\n",
       "    }\n",
       "</style>\n",
       "<table border=\"1\" class=\"dataframe\">\n",
       "  <thead>\n",
       "    <tr style=\"text-align: right;\">\n",
       "      <th></th>\n",
       "      <th></th>\n",
       "      <th>Soma</th>\n",
       "    </tr>\n",
       "    <tr>\n",
       "      <th>Município</th>\n",
       "      <th>Poluente emitido</th>\n",
       "      <th></th>\n",
       "    </tr>\n",
       "  </thead>\n",
       "  <tbody>\n",
       "    <tr>\n",
       "      <th rowspan=\"8\" valign=\"top\">CUBATAO</th>\n",
       "      <th>Dióxido de carbono (gás carbônico, anidrido carbônico); gelo seco</th>\n",
       "      <td>1731807.35</td>\n",
       "    </tr>\n",
       "    <tr>\n",
       "      <th>Óxidos de nitrogênio (NOx)</th>\n",
       "      <td>110808.40</td>\n",
       "    </tr>\n",
       "    <tr>\n",
       "      <th>Óxido nitroso</th>\n",
       "      <td>99390.20</td>\n",
       "    </tr>\n",
       "    <tr>\n",
       "      <th>Óxidos de enxofre (SOx)</th>\n",
       "      <td>77453.20</td>\n",
       "    </tr>\n",
       "    <tr>\n",
       "      <th>Monóxido de carbono (CO)</th>\n",
       "      <td>20665.73</td>\n",
       "    </tr>\n",
       "    <tr>\n",
       "      <th>Material Particulado (MP)</th>\n",
       "      <td>13231.77</td>\n",
       "    </tr>\n",
       "    <tr>\n",
       "      <th>Dióxido de enxofre</th>\n",
       "      <td>8222.40</td>\n",
       "    </tr>\n",
       "    <tr>\n",
       "      <th>Monóxido de carbono</th>\n",
       "      <td>1185.92</td>\n",
       "    </tr>\n",
       "    <tr>\n",
       "      <th rowspan=\"4\" valign=\"top\">GUARUJA</th>\n",
       "      <th>Óxidos de nitrogênio (NOx)</th>\n",
       "      <td>169.97</td>\n",
       "    </tr>\n",
       "    <tr>\n",
       "      <th>Monóxido de carbono (CO)</th>\n",
       "      <td>70.34</td>\n",
       "    </tr>\n",
       "    <tr>\n",
       "      <th>Material Particulado (MP)</th>\n",
       "      <td>28.55</td>\n",
       "    </tr>\n",
       "    <tr>\n",
       "      <th>Óxidos de enxofre (SOx)</th>\n",
       "      <td>20.56</td>\n",
       "    </tr>\n",
       "    <tr>\n",
       "      <th>PRAIA GRANDE</th>\n",
       "      <th>Material Particulado (MP)</th>\n",
       "      <td>240.97</td>\n",
       "    </tr>\n",
       "    <tr>\n",
       "      <th rowspan=\"4\" valign=\"top\">SANTOS</th>\n",
       "      <th>Monóxido de carbono (CO)</th>\n",
       "      <td>480345.78</td>\n",
       "    </tr>\n",
       "    <tr>\n",
       "      <th>Óxidos de nitrogênio (NOx)</th>\n",
       "      <td>47027.77</td>\n",
       "    </tr>\n",
       "    <tr>\n",
       "      <th>Material Particulado (MP)</th>\n",
       "      <td>7166.66</td>\n",
       "    </tr>\n",
       "    <tr>\n",
       "      <th>Óxidos de enxofre (SOx)</th>\n",
       "      <td>1492.87</td>\n",
       "    </tr>\n",
       "    <tr>\n",
       "      <th rowspan=\"4\" valign=\"top\">SAO VICENTE</th>\n",
       "      <th>Óxidos de enxofre (SOx)</th>\n",
       "      <td>503.81</td>\n",
       "    </tr>\n",
       "    <tr>\n",
       "      <th>Óxidos de nitrogênio (NOx)</th>\n",
       "      <td>257.16</td>\n",
       "    </tr>\n",
       "    <tr>\n",
       "      <th>Material Particulado (MP)</th>\n",
       "      <td>183.89</td>\n",
       "    </tr>\n",
       "    <tr>\n",
       "      <th>Monóxido de carbono (CO)</th>\n",
       "      <td>0.29</td>\n",
       "    </tr>\n",
       "  </tbody>\n",
       "</table>\n",
       "</div>"
      ],
      "text/plain": [
       "                                                                       Soma\n",
       "Município    Poluente emitido                                              \n",
       "CUBATAO      Dióxido de carbono (gás carbônico, anidrido car...  1731807.35\n",
       "             Óxidos de nitrogênio (NOx)                           110808.40\n",
       "             Óxido nitroso                                         99390.20\n",
       "             Óxidos de enxofre (SOx)                               77453.20\n",
       "             Monóxido de carbono (CO)                              20665.73\n",
       "             Material Particulado (MP)                             13231.77\n",
       "             Dióxido de enxofre                                     8222.40\n",
       "             Monóxido de carbono                                    1185.92\n",
       "GUARUJA      Óxidos de nitrogênio (NOx)                              169.97\n",
       "             Monóxido de carbono (CO)                                 70.34\n",
       "             Material Particulado (MP)                                28.55\n",
       "             Óxidos de enxofre (SOx)                                  20.56\n",
       "PRAIA GRANDE Material Particulado (MP)                               240.97\n",
       "SANTOS       Monóxido de carbono (CO)                             480345.78\n",
       "             Óxidos de nitrogênio (NOx)                            47027.77\n",
       "             Material Particulado (MP)                              7166.66\n",
       "             Óxidos de enxofre (SOx)                                1492.87\n",
       "SAO VICENTE  Óxidos de enxofre (SOx)                                 503.81\n",
       "             Óxidos de nitrogênio (NOx)                              257.16\n",
       "             Material Particulado (MP)                               183.89\n",
       "             Monóxido de carbono (CO)                                  0.29"
      ]
     },
     "execution_count": 105,
     "metadata": {},
     "output_type": "execute_result"
    }
   ],
   "source": [
    "result_df = pd.DataFrame({'Soma': df_bs.groupby(['Município', 'Poluente emitido'])['Quantidade'].sum()})\n",
    "\n",
    "result_df.sort_values(by=['Município', 'Soma'], ascending=[True, False])"
   ]
  },
  {
   "cell_type": "markdown",
   "metadata": {},
   "source": [
    "# Plotagem do gráfico"
   ]
  },
  {
   "cell_type": "code",
   "execution_count": 111,
   "metadata": {},
   "outputs": [
    {
     "data": {
      "application/vnd.plotly.v1+json": {
       "config": {
        "plotlyServerURL": "https://plot.ly"
       },
       "data": [
        {
         "alignmentgroup": "True",
         "hovertemplate": "Poluente=Dióxido de carbono (gás carbônico, anidrido carbônico); gelo seco<br>Município=%{x}<br>Quantidade=%{y}<extra></extra>",
         "legendgroup": "Dióxido de carbono (gás carbônico, anidrido carbônico); gelo seco",
         "marker": {
          "color": "#636efa",
          "pattern": {
           "shape": ""
          }
         },
         "name": "Dióxido de carbono (gás carbônico, anidrido carbônico); gelo seco",
         "offsetgroup": "Dióxido de carbono (gás carbônico, anidrido carbônico); gelo seco",
         "orientation": "v",
         "showlegend": true,
         "textposition": "auto",
         "type": "bar",
         "x": [
          "CUBATAO"
         ],
         "xaxis": "x",
         "y": [
          1731807.35
         ],
         "yaxis": "y"
        },
        {
         "alignmentgroup": "True",
         "hovertemplate": "Poluente=Óxidos de nitrogênio (NOx)<br>Município=%{x}<br>Quantidade=%{y}<extra></extra>",
         "legendgroup": "Óxidos de nitrogênio (NOx)",
         "marker": {
          "color": "#EF553B",
          "pattern": {
           "shape": ""
          }
         },
         "name": "Óxidos de nitrogênio (NOx)",
         "offsetgroup": "Óxidos de nitrogênio (NOx)",
         "orientation": "v",
         "showlegend": true,
         "textposition": "auto",
         "type": "bar",
         "x": [
          "CUBATAO",
          "GUARUJA",
          "SANTOS",
          "SAO VICENTE"
         ],
         "xaxis": "x",
         "y": [
          110808.40000000001,
          169.97,
          47027.77,
          257.15999999999997
         ],
         "yaxis": "y"
        },
        {
         "alignmentgroup": "True",
         "hovertemplate": "Poluente=Óxido nitroso<br>Município=%{x}<br>Quantidade=%{y}<extra></extra>",
         "legendgroup": "Óxido nitroso",
         "marker": {
          "color": "#00cc96",
          "pattern": {
           "shape": ""
          }
         },
         "name": "Óxido nitroso",
         "offsetgroup": "Óxido nitroso",
         "orientation": "v",
         "showlegend": true,
         "textposition": "auto",
         "type": "bar",
         "x": [
          "CUBATAO"
         ],
         "xaxis": "x",
         "y": [
          99390.2
         ],
         "yaxis": "y"
        },
        {
         "alignmentgroup": "True",
         "hovertemplate": "Poluente=Óxidos de enxofre (SOx)<br>Município=%{x}<br>Quantidade=%{y}<extra></extra>",
         "legendgroup": "Óxidos de enxofre (SOx)",
         "marker": {
          "color": "#ab63fa",
          "pattern": {
           "shape": ""
          }
         },
         "name": "Óxidos de enxofre (SOx)",
         "offsetgroup": "Óxidos de enxofre (SOx)",
         "orientation": "v",
         "showlegend": true,
         "textposition": "auto",
         "type": "bar",
         "x": [
          "CUBATAO",
          "GUARUJA",
          "SANTOS",
          "SAO VICENTE"
         ],
         "xaxis": "x",
         "y": [
          77453.2,
          20.56,
          1492.87,
          503.81
         ],
         "yaxis": "y"
        },
        {
         "alignmentgroup": "True",
         "hovertemplate": "Poluente=Monóxido de carbono (CO)<br>Município=%{x}<br>Quantidade=%{y}<extra></extra>",
         "legendgroup": "Monóxido de carbono (CO)",
         "marker": {
          "color": "#FFA15A",
          "pattern": {
           "shape": ""
          }
         },
         "name": "Monóxido de carbono (CO)",
         "offsetgroup": "Monóxido de carbono (CO)",
         "orientation": "v",
         "showlegend": true,
         "textposition": "auto",
         "type": "bar",
         "x": [
          "CUBATAO",
          "GUARUJA",
          "SANTOS",
          "SAO VICENTE"
         ],
         "xaxis": "x",
         "y": [
          20665.73,
          70.34,
          480345.78,
          0.29000000000000004
         ],
         "yaxis": "y"
        },
        {
         "alignmentgroup": "True",
         "hovertemplate": "Poluente=Material Particulado (MP)<br>Município=%{x}<br>Quantidade=%{y}<extra></extra>",
         "legendgroup": "Material Particulado (MP)",
         "marker": {
          "color": "#19d3f3",
          "pattern": {
           "shape": ""
          }
         },
         "name": "Material Particulado (MP)",
         "offsetgroup": "Material Particulado (MP)",
         "orientation": "v",
         "showlegend": true,
         "textposition": "auto",
         "type": "bar",
         "x": [
          "CUBATAO",
          "GUARUJA",
          "PRAIA GRANDE",
          "SANTOS",
          "SAO VICENTE"
         ],
         "xaxis": "x",
         "y": [
          13231.769999999999,
          28.55,
          240.97,
          7166.66,
          183.89
         ],
         "yaxis": "y"
        },
        {
         "alignmentgroup": "True",
         "hovertemplate": "Poluente=Dióxido de enxofre<br>Município=%{x}<br>Quantidade=%{y}<extra></extra>",
         "legendgroup": "Dióxido de enxofre",
         "marker": {
          "color": "#FF6692",
          "pattern": {
           "shape": ""
          }
         },
         "name": "Dióxido de enxofre",
         "offsetgroup": "Dióxido de enxofre",
         "orientation": "v",
         "showlegend": true,
         "textposition": "auto",
         "type": "bar",
         "x": [
          "CUBATAO"
         ],
         "xaxis": "x",
         "y": [
          8222.4
         ],
         "yaxis": "y"
        },
        {
         "alignmentgroup": "True",
         "hovertemplate": "Poluente=Monóxido de carbono<br>Município=%{x}<br>Quantidade=%{y}<extra></extra>",
         "legendgroup": "Monóxido de carbono",
         "marker": {
          "color": "#B6E880",
          "pattern": {
           "shape": ""
          }
         },
         "name": "Monóxido de carbono",
         "offsetgroup": "Monóxido de carbono",
         "orientation": "v",
         "showlegend": true,
         "textposition": "auto",
         "type": "bar",
         "x": [
          "CUBATAO"
         ],
         "xaxis": "x",
         "y": [
          1185.9199999999998
         ],
         "yaxis": "y"
        }
       ],
       "layout": {
        "barmode": "group",
        "legend": {
         "title": {
          "text": "Poluente"
         },
         "tracegroupgap": 0
        },
        "template": {
         "data": {
          "bar": [
           {
            "error_x": {
             "color": "#2a3f5f"
            },
            "error_y": {
             "color": "#2a3f5f"
            },
            "marker": {
             "line": {
              "color": "#E5ECF6",
              "width": 0.5
             },
             "pattern": {
              "fillmode": "overlay",
              "size": 10,
              "solidity": 0.2
             }
            },
            "type": "bar"
           }
          ],
          "barpolar": [
           {
            "marker": {
             "line": {
              "color": "#E5ECF6",
              "width": 0.5
             },
             "pattern": {
              "fillmode": "overlay",
              "size": 10,
              "solidity": 0.2
             }
            },
            "type": "barpolar"
           }
          ],
          "carpet": [
           {
            "aaxis": {
             "endlinecolor": "#2a3f5f",
             "gridcolor": "white",
             "linecolor": "white",
             "minorgridcolor": "white",
             "startlinecolor": "#2a3f5f"
            },
            "baxis": {
             "endlinecolor": "#2a3f5f",
             "gridcolor": "white",
             "linecolor": "white",
             "minorgridcolor": "white",
             "startlinecolor": "#2a3f5f"
            },
            "type": "carpet"
           }
          ],
          "choropleth": [
           {
            "colorbar": {
             "outlinewidth": 0,
             "ticks": ""
            },
            "type": "choropleth"
           }
          ],
          "contour": [
           {
            "colorbar": {
             "outlinewidth": 0,
             "ticks": ""
            },
            "colorscale": [
             [
              0,
              "#0d0887"
             ],
             [
              0.1111111111111111,
              "#46039f"
             ],
             [
              0.2222222222222222,
              "#7201a8"
             ],
             [
              0.3333333333333333,
              "#9c179e"
             ],
             [
              0.4444444444444444,
              "#bd3786"
             ],
             [
              0.5555555555555556,
              "#d8576b"
             ],
             [
              0.6666666666666666,
              "#ed7953"
             ],
             [
              0.7777777777777778,
              "#fb9f3a"
             ],
             [
              0.8888888888888888,
              "#fdca26"
             ],
             [
              1,
              "#f0f921"
             ]
            ],
            "type": "contour"
           }
          ],
          "contourcarpet": [
           {
            "colorbar": {
             "outlinewidth": 0,
             "ticks": ""
            },
            "type": "contourcarpet"
           }
          ],
          "heatmap": [
           {
            "colorbar": {
             "outlinewidth": 0,
             "ticks": ""
            },
            "colorscale": [
             [
              0,
              "#0d0887"
             ],
             [
              0.1111111111111111,
              "#46039f"
             ],
             [
              0.2222222222222222,
              "#7201a8"
             ],
             [
              0.3333333333333333,
              "#9c179e"
             ],
             [
              0.4444444444444444,
              "#bd3786"
             ],
             [
              0.5555555555555556,
              "#d8576b"
             ],
             [
              0.6666666666666666,
              "#ed7953"
             ],
             [
              0.7777777777777778,
              "#fb9f3a"
             ],
             [
              0.8888888888888888,
              "#fdca26"
             ],
             [
              1,
              "#f0f921"
             ]
            ],
            "type": "heatmap"
           }
          ],
          "heatmapgl": [
           {
            "colorbar": {
             "outlinewidth": 0,
             "ticks": ""
            },
            "colorscale": [
             [
              0,
              "#0d0887"
             ],
             [
              0.1111111111111111,
              "#46039f"
             ],
             [
              0.2222222222222222,
              "#7201a8"
             ],
             [
              0.3333333333333333,
              "#9c179e"
             ],
             [
              0.4444444444444444,
              "#bd3786"
             ],
             [
              0.5555555555555556,
              "#d8576b"
             ],
             [
              0.6666666666666666,
              "#ed7953"
             ],
             [
              0.7777777777777778,
              "#fb9f3a"
             ],
             [
              0.8888888888888888,
              "#fdca26"
             ],
             [
              1,
              "#f0f921"
             ]
            ],
            "type": "heatmapgl"
           }
          ],
          "histogram": [
           {
            "marker": {
             "pattern": {
              "fillmode": "overlay",
              "size": 10,
              "solidity": 0.2
             }
            },
            "type": "histogram"
           }
          ],
          "histogram2d": [
           {
            "colorbar": {
             "outlinewidth": 0,
             "ticks": ""
            },
            "colorscale": [
             [
              0,
              "#0d0887"
             ],
             [
              0.1111111111111111,
              "#46039f"
             ],
             [
              0.2222222222222222,
              "#7201a8"
             ],
             [
              0.3333333333333333,
              "#9c179e"
             ],
             [
              0.4444444444444444,
              "#bd3786"
             ],
             [
              0.5555555555555556,
              "#d8576b"
             ],
             [
              0.6666666666666666,
              "#ed7953"
             ],
             [
              0.7777777777777778,
              "#fb9f3a"
             ],
             [
              0.8888888888888888,
              "#fdca26"
             ],
             [
              1,
              "#f0f921"
             ]
            ],
            "type": "histogram2d"
           }
          ],
          "histogram2dcontour": [
           {
            "colorbar": {
             "outlinewidth": 0,
             "ticks": ""
            },
            "colorscale": [
             [
              0,
              "#0d0887"
             ],
             [
              0.1111111111111111,
              "#46039f"
             ],
             [
              0.2222222222222222,
              "#7201a8"
             ],
             [
              0.3333333333333333,
              "#9c179e"
             ],
             [
              0.4444444444444444,
              "#bd3786"
             ],
             [
              0.5555555555555556,
              "#d8576b"
             ],
             [
              0.6666666666666666,
              "#ed7953"
             ],
             [
              0.7777777777777778,
              "#fb9f3a"
             ],
             [
              0.8888888888888888,
              "#fdca26"
             ],
             [
              1,
              "#f0f921"
             ]
            ],
            "type": "histogram2dcontour"
           }
          ],
          "mesh3d": [
           {
            "colorbar": {
             "outlinewidth": 0,
             "ticks": ""
            },
            "type": "mesh3d"
           }
          ],
          "parcoords": [
           {
            "line": {
             "colorbar": {
              "outlinewidth": 0,
              "ticks": ""
             }
            },
            "type": "parcoords"
           }
          ],
          "pie": [
           {
            "automargin": true,
            "type": "pie"
           }
          ],
          "scatter": [
           {
            "fillpattern": {
             "fillmode": "overlay",
             "size": 10,
             "solidity": 0.2
            },
            "type": "scatter"
           }
          ],
          "scatter3d": [
           {
            "line": {
             "colorbar": {
              "outlinewidth": 0,
              "ticks": ""
             }
            },
            "marker": {
             "colorbar": {
              "outlinewidth": 0,
              "ticks": ""
             }
            },
            "type": "scatter3d"
           }
          ],
          "scattercarpet": [
           {
            "marker": {
             "colorbar": {
              "outlinewidth": 0,
              "ticks": ""
             }
            },
            "type": "scattercarpet"
           }
          ],
          "scattergeo": [
           {
            "marker": {
             "colorbar": {
              "outlinewidth": 0,
              "ticks": ""
             }
            },
            "type": "scattergeo"
           }
          ],
          "scattergl": [
           {
            "marker": {
             "colorbar": {
              "outlinewidth": 0,
              "ticks": ""
             }
            },
            "type": "scattergl"
           }
          ],
          "scattermapbox": [
           {
            "marker": {
             "colorbar": {
              "outlinewidth": 0,
              "ticks": ""
             }
            },
            "type": "scattermapbox"
           }
          ],
          "scatterpolar": [
           {
            "marker": {
             "colorbar": {
              "outlinewidth": 0,
              "ticks": ""
             }
            },
            "type": "scatterpolar"
           }
          ],
          "scatterpolargl": [
           {
            "marker": {
             "colorbar": {
              "outlinewidth": 0,
              "ticks": ""
             }
            },
            "type": "scatterpolargl"
           }
          ],
          "scatterternary": [
           {
            "marker": {
             "colorbar": {
              "outlinewidth": 0,
              "ticks": ""
             }
            },
            "type": "scatterternary"
           }
          ],
          "surface": [
           {
            "colorbar": {
             "outlinewidth": 0,
             "ticks": ""
            },
            "colorscale": [
             [
              0,
              "#0d0887"
             ],
             [
              0.1111111111111111,
              "#46039f"
             ],
             [
              0.2222222222222222,
              "#7201a8"
             ],
             [
              0.3333333333333333,
              "#9c179e"
             ],
             [
              0.4444444444444444,
              "#bd3786"
             ],
             [
              0.5555555555555556,
              "#d8576b"
             ],
             [
              0.6666666666666666,
              "#ed7953"
             ],
             [
              0.7777777777777778,
              "#fb9f3a"
             ],
             [
              0.8888888888888888,
              "#fdca26"
             ],
             [
              1,
              "#f0f921"
             ]
            ],
            "type": "surface"
           }
          ],
          "table": [
           {
            "cells": {
             "fill": {
              "color": "#EBF0F8"
             },
             "line": {
              "color": "white"
             }
            },
            "header": {
             "fill": {
              "color": "#C8D4E3"
             },
             "line": {
              "color": "white"
             }
            },
            "type": "table"
           }
          ]
         },
         "layout": {
          "annotationdefaults": {
           "arrowcolor": "#2a3f5f",
           "arrowhead": 0,
           "arrowwidth": 1
          },
          "autotypenumbers": "strict",
          "coloraxis": {
           "colorbar": {
            "outlinewidth": 0,
            "ticks": ""
           }
          },
          "colorscale": {
           "diverging": [
            [
             0,
             "#8e0152"
            ],
            [
             0.1,
             "#c51b7d"
            ],
            [
             0.2,
             "#de77ae"
            ],
            [
             0.3,
             "#f1b6da"
            ],
            [
             0.4,
             "#fde0ef"
            ],
            [
             0.5,
             "#f7f7f7"
            ],
            [
             0.6,
             "#e6f5d0"
            ],
            [
             0.7,
             "#b8e186"
            ],
            [
             0.8,
             "#7fbc41"
            ],
            [
             0.9,
             "#4d9221"
            ],
            [
             1,
             "#276419"
            ]
           ],
           "sequential": [
            [
             0,
             "#0d0887"
            ],
            [
             0.1111111111111111,
             "#46039f"
            ],
            [
             0.2222222222222222,
             "#7201a8"
            ],
            [
             0.3333333333333333,
             "#9c179e"
            ],
            [
             0.4444444444444444,
             "#bd3786"
            ],
            [
             0.5555555555555556,
             "#d8576b"
            ],
            [
             0.6666666666666666,
             "#ed7953"
            ],
            [
             0.7777777777777778,
             "#fb9f3a"
            ],
            [
             0.8888888888888888,
             "#fdca26"
            ],
            [
             1,
             "#f0f921"
            ]
           ],
           "sequentialminus": [
            [
             0,
             "#0d0887"
            ],
            [
             0.1111111111111111,
             "#46039f"
            ],
            [
             0.2222222222222222,
             "#7201a8"
            ],
            [
             0.3333333333333333,
             "#9c179e"
            ],
            [
             0.4444444444444444,
             "#bd3786"
            ],
            [
             0.5555555555555556,
             "#d8576b"
            ],
            [
             0.6666666666666666,
             "#ed7953"
            ],
            [
             0.7777777777777778,
             "#fb9f3a"
            ],
            [
             0.8888888888888888,
             "#fdca26"
            ],
            [
             1,
             "#f0f921"
            ]
           ]
          },
          "colorway": [
           "#636efa",
           "#EF553B",
           "#00cc96",
           "#ab63fa",
           "#FFA15A",
           "#19d3f3",
           "#FF6692",
           "#B6E880",
           "#FF97FF",
           "#FECB52"
          ],
          "font": {
           "color": "#2a3f5f"
          },
          "geo": {
           "bgcolor": "white",
           "lakecolor": "white",
           "landcolor": "#E5ECF6",
           "showlakes": true,
           "showland": true,
           "subunitcolor": "white"
          },
          "hoverlabel": {
           "align": "left"
          },
          "hovermode": "closest",
          "mapbox": {
           "style": "light"
          },
          "paper_bgcolor": "white",
          "plot_bgcolor": "#E5ECF6",
          "polar": {
           "angularaxis": {
            "gridcolor": "white",
            "linecolor": "white",
            "ticks": ""
           },
           "bgcolor": "#E5ECF6",
           "radialaxis": {
            "gridcolor": "white",
            "linecolor": "white",
            "ticks": ""
           }
          },
          "scene": {
           "xaxis": {
            "backgroundcolor": "#E5ECF6",
            "gridcolor": "white",
            "gridwidth": 2,
            "linecolor": "white",
            "showbackground": true,
            "ticks": "",
            "zerolinecolor": "white"
           },
           "yaxis": {
            "backgroundcolor": "#E5ECF6",
            "gridcolor": "white",
            "gridwidth": 2,
            "linecolor": "white",
            "showbackground": true,
            "ticks": "",
            "zerolinecolor": "white"
           },
           "zaxis": {
            "backgroundcolor": "#E5ECF6",
            "gridcolor": "white",
            "gridwidth": 2,
            "linecolor": "white",
            "showbackground": true,
            "ticks": "",
            "zerolinecolor": "white"
           }
          },
          "shapedefaults": {
           "line": {
            "color": "#2a3f5f"
           }
          },
          "ternary": {
           "aaxis": {
            "gridcolor": "white",
            "linecolor": "white",
            "ticks": ""
           },
           "baxis": {
            "gridcolor": "white",
            "linecolor": "white",
            "ticks": ""
           },
           "bgcolor": "#E5ECF6",
           "caxis": {
            "gridcolor": "white",
            "linecolor": "white",
            "ticks": ""
           }
          },
          "title": {
           "x": 0.05
          },
          "xaxis": {
           "automargin": true,
           "gridcolor": "white",
           "linecolor": "white",
           "ticks": "",
           "title": {
            "standoff": 15
           },
           "zerolinecolor": "white",
           "zerolinewidth": 2
          },
          "yaxis": {
           "automargin": true,
           "gridcolor": "white",
           "linecolor": "white",
           "ticks": "",
           "title": {
            "standoff": 15
           },
           "zerolinecolor": "white",
           "zerolinewidth": 2
          }
         }
        },
        "title": {
         "text": "Quantidade total de Poluentes Emitidos por Município de 2013 à 2023"
        },
        "xaxis": {
         "anchor": "y",
         "domain": [
          0,
          1
         ],
         "title": {
          "text": "Município"
         }
        },
        "yaxis": {
         "anchor": "x",
         "domain": [
          0,
          1
         ],
         "title": {
          "text": "Soma"
         }
        }
       }
      }
     },
     "metadata": {},
     "output_type": "display_data"
    }
   ],
   "source": [
    "\n",
    "# DataFrame fornecido\n",
    "result_df = pd.DataFrame({'Soma': df_bs.groupby(['Município', 'Poluente emitido'])['Quantidade'].sum()})\n",
    "\n",
    "# Ordenar o DataFrame\n",
    "result_df = result_df.sort_values(by=['Município', 'Soma'], ascending=[True, False]).reset_index()\n",
    "\n",
    "# Plotar o gráfico de barras\n",
    "fig = px.bar(result_df, x='Município', y='Soma', color='Poluente emitido', barmode='group',\n",
    "             title='Quantidade total de Poluentes Emitidos por Município de 2013 à 2023',\n",
    "             labels={'Soma': 'Quantidade', 'Município': 'Município', 'Poluente emitido': 'Poluente'})\n",
    "fig.update_xaxes(title='Município')\n",
    "fig.update_yaxes(title='Soma')\n",
    "fig.show()\n"
   ]
  }
 ],
 "metadata": {
  "kernelspec": {
   "display_name": "Python 3",
   "language": "python",
   "name": "python3"
  },
  "language_info": {
   "codemirror_mode": {
    "name": "ipython",
    "version": 3
   },
   "file_extension": ".py",
   "mimetype": "text/x-python",
   "name": "python",
   "nbconvert_exporter": "python",
   "pygments_lexer": "ipython3",
   "version": "3.12.1"
  }
 },
 "nbformat": 4,
 "nbformat_minor": 2
}
